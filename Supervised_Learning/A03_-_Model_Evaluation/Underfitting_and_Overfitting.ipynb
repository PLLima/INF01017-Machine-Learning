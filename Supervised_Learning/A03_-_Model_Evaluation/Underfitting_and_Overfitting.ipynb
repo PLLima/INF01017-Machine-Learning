{
 "cells": [
  {
   "cell_type": "markdown",
   "metadata": {
    "id": "DDELdQ-j0lDB"
   },
   "source": [
    "# **Instituto de Informática (INF)/UFRGS**\n",
    "### Disciplina INF01017 - Aprendizado de Máquina\n",
    "#### *Profa. Mariana Recamonde-Mendoza (mrmendoza@inf.ufrgs.br)*\n",
    "<br>\n",
    "\n",
    "---\n",
    "***Observação:*** *Este notebook é disponibilizado aos alunos como complemento às aulas  e aos slides preparados pela professora. Desta forma, os principais conceitos são apresentados no material teórico fornecido. O objetivo deste notebook é reforçar os conceitos e demonstrar questões práticas no uso de algoritmos e estratégias de avaliação em Aprendizado de Máquina.*\n",
    "\n",
    "\n",
    "---\n",
    "\n",
    "## **Tópico: Avaliação de modelos, overfitting e underfitting**\n",
    "\n",
    "\n",
    "**Objetivos da atividade:**\n",
    "- Analisar o impacto de aspectos como dimensão dos dados, aleatoriedade na divisão de dados e repetições na avaliação de modelos com Holdout\n",
    "- Compreender os conceitos de overfitting e underfitting, com exemplos práticos\n",
    "\n",
    "O notebook usa como base o algoritmo de Redes Neurais."
   ]
  },
  {
   "cell_type": "markdown",
   "metadata": {
    "id": "vb0LTFlfml55"
   },
   "source": [
    "# **Nome e matrícula:** Pedro Lubaszewski Lima (00341810)"
   ]
  },
  {
   "cell_type": "markdown",
   "metadata": {
    "id": "u3V8e3JPjZNE"
   },
   "source": [
    "# Parte 1: Impacto de aspectos relacionados a volume de dados e repetições na avaliação de modelos com Holdout."
   ]
  },
  {
   "cell_type": "markdown",
   "metadata": {
    "id": "cOvAm00jHfuV"
   },
   "source": [
    "Esta parte do notebook usará os dados de câncer de mama, usando a função do sklearn para carregamento dos dados."
   ]
  },
  {
   "cell_type": "markdown",
   "metadata": {
    "id": "bgiI6FV00zre"
   },
   "source": [
    "### Carregando as bibliotecas e dados\n"
   ]
  },
  {
   "cell_type": "code",
   "execution_count": 9,
   "metadata": {
    "id": "9wR4Z8hcrMC0"
   },
   "outputs": [],
   "source": [
    "import pandas as pd             # biblioteca para análise de dados\n",
    "import matplotlib.pyplot as plt # biblioteca para visualização de informações\n",
    "import seaborn as sns           # biblioteca para visualização de informações\n",
    "import numpy as np              # biblioteca para operações com arrays multidimensionais\n",
    "from sklearn.datasets import load_breast_cancer ## conjunto de dados a ser analisado\n",
    "sns.set_theme()"
   ]
  },
  {
   "cell_type": "code",
   "execution_count": 10,
   "metadata": {
    "id": "Wy4AyLeusoAc"
   },
   "outputs": [],
   "source": [
    "## Carregando os dados - Câncer de Mama\n",
    "## https://scikit-learn.org/stable/modules/generated/sklearn.datasets.load_breast_cancer.html\n",
    "\n",
    "data = load_breast_cancer() ## carrega os dados de breast cancer\n",
    "X = data.data  # matriz contendo os atributos\n",
    "y = data.target  # vetor contendo a classe (0 para maligno e 1 para benigno) de cada instância\n",
    "feature_names = data.feature_names  # nome de cada atributo\n",
    "target_names = data.target_names  # nome de cada classe"
   ]
  },
  {
   "cell_type": "code",
   "execution_count": 11,
   "metadata": {
    "id": "DVvGJ90UC5bk"
   },
   "outputs": [
    {
     "name": "stdout",
     "output_type": "stream",
     "text": [
      "Dimensões de X: (569, 30)\n",
      "\n",
      "Dimensões de y: (569,)\n",
      "\n",
      "Nomes dos atributos: ['mean radius' 'mean texture' 'mean perimeter' 'mean area'\n",
      " 'mean smoothness' 'mean compactness' 'mean concavity'\n",
      " 'mean concave points' 'mean symmetry' 'mean fractal dimension'\n",
      " 'radius error' 'texture error' 'perimeter error' 'area error'\n",
      " 'smoothness error' 'compactness error' 'concavity error'\n",
      " 'concave points error' 'symmetry error' 'fractal dimension error'\n",
      " 'worst radius' 'worst texture' 'worst perimeter' 'worst area'\n",
      " 'worst smoothness' 'worst compactness' 'worst concavity'\n",
      " 'worst concave points' 'worst symmetry' 'worst fractal dimension']\n",
      "\n",
      "Nomes das classes: ['malignant' 'benign']\n"
     ]
    }
   ],
   "source": [
    "print(f\"Dimensões de X: {X.shape}\\n\")\n",
    "print(f\"Dimensões de y: {y.shape}\\n\")\n",
    "print(f\"Nomes dos atributos: {feature_names}\\n\")\n",
    "print(f\"Nomes das classes: {target_names}\")"
   ]
  },
  {
   "cell_type": "code",
   "execution_count": 12,
   "metadata": {
    "id": "QlV9xcg4ssZu"
   },
   "outputs": [
    {
     "data": {
      "text/html": [
       "<div>\n",
       "<style scoped>\n",
       "    .dataframe tbody tr th:only-of-type {\n",
       "        vertical-align: middle;\n",
       "    }\n",
       "\n",
       "    .dataframe tbody tr th {\n",
       "        vertical-align: top;\n",
       "    }\n",
       "\n",
       "    .dataframe thead th {\n",
       "        text-align: right;\n",
       "    }\n",
       "</style>\n",
       "<table border=\"1\" class=\"dataframe\">\n",
       "  <thead>\n",
       "    <tr style=\"text-align: right;\">\n",
       "      <th></th>\n",
       "      <th>mean radius</th>\n",
       "      <th>mean texture</th>\n",
       "      <th>mean perimeter</th>\n",
       "      <th>mean area</th>\n",
       "      <th>mean smoothness</th>\n",
       "      <th>mean compactness</th>\n",
       "      <th>mean concavity</th>\n",
       "      <th>mean concave points</th>\n",
       "      <th>mean symmetry</th>\n",
       "      <th>mean fractal dimension</th>\n",
       "      <th>...</th>\n",
       "      <th>worst radius</th>\n",
       "      <th>worst texture</th>\n",
       "      <th>worst perimeter</th>\n",
       "      <th>worst area</th>\n",
       "      <th>worst smoothness</th>\n",
       "      <th>worst compactness</th>\n",
       "      <th>worst concavity</th>\n",
       "      <th>worst concave points</th>\n",
       "      <th>worst symmetry</th>\n",
       "      <th>worst fractal dimension</th>\n",
       "    </tr>\n",
       "  </thead>\n",
       "  <tbody>\n",
       "    <tr>\n",
       "      <th>count</th>\n",
       "      <td>569.000000</td>\n",
       "      <td>569.000000</td>\n",
       "      <td>569.000000</td>\n",
       "      <td>569.000000</td>\n",
       "      <td>569.000000</td>\n",
       "      <td>569.000000</td>\n",
       "      <td>569.000000</td>\n",
       "      <td>569.000000</td>\n",
       "      <td>569.000000</td>\n",
       "      <td>569.000000</td>\n",
       "      <td>...</td>\n",
       "      <td>569.000000</td>\n",
       "      <td>569.000000</td>\n",
       "      <td>569.000000</td>\n",
       "      <td>569.000000</td>\n",
       "      <td>569.000000</td>\n",
       "      <td>569.000000</td>\n",
       "      <td>569.000000</td>\n",
       "      <td>569.000000</td>\n",
       "      <td>569.000000</td>\n",
       "      <td>569.000000</td>\n",
       "    </tr>\n",
       "    <tr>\n",
       "      <th>mean</th>\n",
       "      <td>14.127292</td>\n",
       "      <td>19.289649</td>\n",
       "      <td>91.969033</td>\n",
       "      <td>654.889104</td>\n",
       "      <td>0.096360</td>\n",
       "      <td>0.104341</td>\n",
       "      <td>0.088799</td>\n",
       "      <td>0.048919</td>\n",
       "      <td>0.181162</td>\n",
       "      <td>0.062798</td>\n",
       "      <td>...</td>\n",
       "      <td>16.269190</td>\n",
       "      <td>25.677223</td>\n",
       "      <td>107.261213</td>\n",
       "      <td>880.583128</td>\n",
       "      <td>0.132369</td>\n",
       "      <td>0.254265</td>\n",
       "      <td>0.272188</td>\n",
       "      <td>0.114606</td>\n",
       "      <td>0.290076</td>\n",
       "      <td>0.083946</td>\n",
       "    </tr>\n",
       "    <tr>\n",
       "      <th>std</th>\n",
       "      <td>3.524049</td>\n",
       "      <td>4.301036</td>\n",
       "      <td>24.298981</td>\n",
       "      <td>351.914129</td>\n",
       "      <td>0.014064</td>\n",
       "      <td>0.052813</td>\n",
       "      <td>0.079720</td>\n",
       "      <td>0.038803</td>\n",
       "      <td>0.027414</td>\n",
       "      <td>0.007060</td>\n",
       "      <td>...</td>\n",
       "      <td>4.833242</td>\n",
       "      <td>6.146258</td>\n",
       "      <td>33.602542</td>\n",
       "      <td>569.356993</td>\n",
       "      <td>0.022832</td>\n",
       "      <td>0.157336</td>\n",
       "      <td>0.208624</td>\n",
       "      <td>0.065732</td>\n",
       "      <td>0.061867</td>\n",
       "      <td>0.018061</td>\n",
       "    </tr>\n",
       "    <tr>\n",
       "      <th>min</th>\n",
       "      <td>6.981000</td>\n",
       "      <td>9.710000</td>\n",
       "      <td>43.790000</td>\n",
       "      <td>143.500000</td>\n",
       "      <td>0.052630</td>\n",
       "      <td>0.019380</td>\n",
       "      <td>0.000000</td>\n",
       "      <td>0.000000</td>\n",
       "      <td>0.106000</td>\n",
       "      <td>0.049960</td>\n",
       "      <td>...</td>\n",
       "      <td>7.930000</td>\n",
       "      <td>12.020000</td>\n",
       "      <td>50.410000</td>\n",
       "      <td>185.200000</td>\n",
       "      <td>0.071170</td>\n",
       "      <td>0.027290</td>\n",
       "      <td>0.000000</td>\n",
       "      <td>0.000000</td>\n",
       "      <td>0.156500</td>\n",
       "      <td>0.055040</td>\n",
       "    </tr>\n",
       "    <tr>\n",
       "      <th>25%</th>\n",
       "      <td>11.700000</td>\n",
       "      <td>16.170000</td>\n",
       "      <td>75.170000</td>\n",
       "      <td>420.300000</td>\n",
       "      <td>0.086370</td>\n",
       "      <td>0.064920</td>\n",
       "      <td>0.029560</td>\n",
       "      <td>0.020310</td>\n",
       "      <td>0.161900</td>\n",
       "      <td>0.057700</td>\n",
       "      <td>...</td>\n",
       "      <td>13.010000</td>\n",
       "      <td>21.080000</td>\n",
       "      <td>84.110000</td>\n",
       "      <td>515.300000</td>\n",
       "      <td>0.116600</td>\n",
       "      <td>0.147200</td>\n",
       "      <td>0.114500</td>\n",
       "      <td>0.064930</td>\n",
       "      <td>0.250400</td>\n",
       "      <td>0.071460</td>\n",
       "    </tr>\n",
       "    <tr>\n",
       "      <th>50%</th>\n",
       "      <td>13.370000</td>\n",
       "      <td>18.840000</td>\n",
       "      <td>86.240000</td>\n",
       "      <td>551.100000</td>\n",
       "      <td>0.095870</td>\n",
       "      <td>0.092630</td>\n",
       "      <td>0.061540</td>\n",
       "      <td>0.033500</td>\n",
       "      <td>0.179200</td>\n",
       "      <td>0.061540</td>\n",
       "      <td>...</td>\n",
       "      <td>14.970000</td>\n",
       "      <td>25.410000</td>\n",
       "      <td>97.660000</td>\n",
       "      <td>686.500000</td>\n",
       "      <td>0.131300</td>\n",
       "      <td>0.211900</td>\n",
       "      <td>0.226700</td>\n",
       "      <td>0.099930</td>\n",
       "      <td>0.282200</td>\n",
       "      <td>0.080040</td>\n",
       "    </tr>\n",
       "    <tr>\n",
       "      <th>75%</th>\n",
       "      <td>15.780000</td>\n",
       "      <td>21.800000</td>\n",
       "      <td>104.100000</td>\n",
       "      <td>782.700000</td>\n",
       "      <td>0.105300</td>\n",
       "      <td>0.130400</td>\n",
       "      <td>0.130700</td>\n",
       "      <td>0.074000</td>\n",
       "      <td>0.195700</td>\n",
       "      <td>0.066120</td>\n",
       "      <td>...</td>\n",
       "      <td>18.790000</td>\n",
       "      <td>29.720000</td>\n",
       "      <td>125.400000</td>\n",
       "      <td>1084.000000</td>\n",
       "      <td>0.146000</td>\n",
       "      <td>0.339100</td>\n",
       "      <td>0.382900</td>\n",
       "      <td>0.161400</td>\n",
       "      <td>0.317900</td>\n",
       "      <td>0.092080</td>\n",
       "    </tr>\n",
       "    <tr>\n",
       "      <th>max</th>\n",
       "      <td>28.110000</td>\n",
       "      <td>39.280000</td>\n",
       "      <td>188.500000</td>\n",
       "      <td>2501.000000</td>\n",
       "      <td>0.163400</td>\n",
       "      <td>0.345400</td>\n",
       "      <td>0.426800</td>\n",
       "      <td>0.201200</td>\n",
       "      <td>0.304000</td>\n",
       "      <td>0.097440</td>\n",
       "      <td>...</td>\n",
       "      <td>36.040000</td>\n",
       "      <td>49.540000</td>\n",
       "      <td>251.200000</td>\n",
       "      <td>4254.000000</td>\n",
       "      <td>0.222600</td>\n",
       "      <td>1.058000</td>\n",
       "      <td>1.252000</td>\n",
       "      <td>0.291000</td>\n",
       "      <td>0.663800</td>\n",
       "      <td>0.207500</td>\n",
       "    </tr>\n",
       "  </tbody>\n",
       "</table>\n",
       "<p>8 rows × 30 columns</p>\n",
       "</div>"
      ],
      "text/plain": [
       "       mean radius  mean texture  mean perimeter    mean area  \\\n",
       "count   569.000000    569.000000      569.000000   569.000000   \n",
       "mean     14.127292     19.289649       91.969033   654.889104   \n",
       "std       3.524049      4.301036       24.298981   351.914129   \n",
       "min       6.981000      9.710000       43.790000   143.500000   \n",
       "25%      11.700000     16.170000       75.170000   420.300000   \n",
       "50%      13.370000     18.840000       86.240000   551.100000   \n",
       "75%      15.780000     21.800000      104.100000   782.700000   \n",
       "max      28.110000     39.280000      188.500000  2501.000000   \n",
       "\n",
       "       mean smoothness  mean compactness  mean concavity  mean concave points  \\\n",
       "count       569.000000        569.000000      569.000000           569.000000   \n",
       "mean          0.096360          0.104341        0.088799             0.048919   \n",
       "std           0.014064          0.052813        0.079720             0.038803   \n",
       "min           0.052630          0.019380        0.000000             0.000000   \n",
       "25%           0.086370          0.064920        0.029560             0.020310   \n",
       "50%           0.095870          0.092630        0.061540             0.033500   \n",
       "75%           0.105300          0.130400        0.130700             0.074000   \n",
       "max           0.163400          0.345400        0.426800             0.201200   \n",
       "\n",
       "       mean symmetry  mean fractal dimension  ...  worst radius  \\\n",
       "count     569.000000              569.000000  ...    569.000000   \n",
       "mean        0.181162                0.062798  ...     16.269190   \n",
       "std         0.027414                0.007060  ...      4.833242   \n",
       "min         0.106000                0.049960  ...      7.930000   \n",
       "25%         0.161900                0.057700  ...     13.010000   \n",
       "50%         0.179200                0.061540  ...     14.970000   \n",
       "75%         0.195700                0.066120  ...     18.790000   \n",
       "max         0.304000                0.097440  ...     36.040000   \n",
       "\n",
       "       worst texture  worst perimeter   worst area  worst smoothness  \\\n",
       "count     569.000000       569.000000   569.000000        569.000000   \n",
       "mean       25.677223       107.261213   880.583128          0.132369   \n",
       "std         6.146258        33.602542   569.356993          0.022832   \n",
       "min        12.020000        50.410000   185.200000          0.071170   \n",
       "25%        21.080000        84.110000   515.300000          0.116600   \n",
       "50%        25.410000        97.660000   686.500000          0.131300   \n",
       "75%        29.720000       125.400000  1084.000000          0.146000   \n",
       "max        49.540000       251.200000  4254.000000          0.222600   \n",
       "\n",
       "       worst compactness  worst concavity  worst concave points  \\\n",
       "count         569.000000       569.000000            569.000000   \n",
       "mean            0.254265         0.272188              0.114606   \n",
       "std             0.157336         0.208624              0.065732   \n",
       "min             0.027290         0.000000              0.000000   \n",
       "25%             0.147200         0.114500              0.064930   \n",
       "50%             0.211900         0.226700              0.099930   \n",
       "75%             0.339100         0.382900              0.161400   \n",
       "max             1.058000         1.252000              0.291000   \n",
       "\n",
       "       worst symmetry  worst fractal dimension  \n",
       "count      569.000000               569.000000  \n",
       "mean         0.290076                 0.083946  \n",
       "std          0.061867                 0.018061  \n",
       "min          0.156500                 0.055040  \n",
       "25%          0.250400                 0.071460  \n",
       "50%          0.282200                 0.080040  \n",
       "75%          0.317900                 0.092080  \n",
       "max          0.663800                 0.207500  \n",
       "\n",
       "[8 rows x 30 columns]"
      ]
     },
     "execution_count": 12,
     "metadata": {},
     "output_type": "execute_result"
    }
   ],
   "source": [
    "## transforma NumPy Array para Pandas DataFrame\n",
    "data_df = pd.DataFrame(X,columns=feature_names)\n",
    "\n",
    "## sumariza os atributos numéricos (todos, neste caso)\n",
    "data_df.describe()"
   ]
  },
  {
   "cell_type": "markdown",
   "metadata": {
    "id": "6xLyeKJl1Clw"
   },
   "source": [
    "### Fazendo a divisão dos dados com Holdout de 3 vias (treino/validação/teste)"
   ]
  },
  {
   "cell_type": "code",
   "execution_count": 13,
   "metadata": {
    "id": "xxkLz8Oh5QN2"
   },
   "outputs": [],
   "source": [
    "#Carregando funções específicas do scikit-learn\n",
    "from sklearn.model_selection import train_test_split # função do scikit-learn que implementa um holdout\n",
    "from sklearn.neural_network import MLPClassifier ## função para treinamento de uma rede neural\n",
    "from sklearn.metrics import accuracy_score, precision_score, recall_score, classification_report # métricas de desempenho\n",
    "from sklearn.metrics import confusion_matrix, ConfusionMatrixDisplay # matriz de confusão"
   ]
  },
  {
   "cell_type": "code",
   "execution_count": 14,
   "metadata": {
    "id": "IkZosIPFEVIE"
   },
   "outputs": [
    {
     "name": "stdout",
     "output_type": "stream",
     "text": [
      "(455, 30)\n",
      "(114, 30)\n"
     ]
    }
   ],
   "source": [
    "##HOLDOUT de 2 vias: separa os dados em treino e teste, de forma estratificada\n",
    "X_train, X_test, y_train, y_test = train_test_split(X, y, test_size=0.2, random_state=42,stratify=y) ## atenção: inicialmente, não mude o random_state para este exercício\n",
    "print(X_train.shape)\n",
    "print(X_test.shape)"
   ]
  },
  {
   "cell_type": "markdown",
   "metadata": {
    "id": "Qm3wakKNGg2U"
   },
   "source": [
    "Em alguns momentos deste notebook, a partição de treino será usada em um processo de validação cruzada, para otimização do modelo. Em outros momentos, será usada apenas para treinamento, visando avaliar impacto de aspectos como tamanho do conjunto de treino ou de teste no desempenho do modelo."
   ]
  },
  {
   "cell_type": "code",
   "execution_count": 15,
   "metadata": {
    "id": "8-vT9obntkvK"
   },
   "outputs": [],
   "source": [
    "# ## HOLDOUT de 3 vias: separa os dados em treino e teste, de forma estratificada\n",
    "\n",
    "# ## Definindo as proporções de treino, validação e teste.\n",
    "# train_ratio = 0.70\n",
    "# test_ratio = 0.15\n",
    "# validation_ratio = 0.15\n",
    "\n",
    "# ## Fazendo a primeira divisão, para separar um conjunto de teste dos demais.\n",
    "# ## Assuma X_temp e y_temp para os dados de treinamento+validação e X_test e y_test para os de teste\n",
    "# ## Dica: configure o random_state para facilitar reprodutibilidade dos experimentos\n",
    "\n",
    "# X_temp, X_test, y_temp, y_test = train_test_split(X, y, test_size=test_ratio,random_state=42,stratify=y)\n",
    "\n",
    "# ## Fazendo a segunda divisão, para gerar o conjunto de treino e validação a partir\n",
    "# ## do conjunto de 'treinamento' da divisão anterior\n",
    "# ## Assuma X_train e y_train para os dados de treinamento e X_valid e y_valid para os de teste\n",
    "# ## Dica: configure o random_state para facilitar reprodutibilidade dos experimentos\n",
    "\n",
    "# X_train, X_valid, y_train, y_valid = train_test_split(X_temp, y_temp, test_size=validation_ratio/(train_ratio+test_ratio),random_state=42,stratify=y_temp)\n",
    "\n",
    "# print(X_train.shape)\n",
    "# print(X_test.shape)\n",
    "# print(X_valid.shape)"
   ]
  },
  {
   "cell_type": "markdown",
   "metadata": {
    "id": "JZITv0JD1JMH"
   },
   "source": [
    "### Pré-processamento: Normalizando os dados\n",
    "\n",
    "A normalização é feita de forma a evitar **Data Leakage** (vazamento de informações dos dados de teste durante o treinamento dos modelos). Os parâmetros para normalização são estimados a partir dos dados de treino, e posteriormente aplicados para normalizar todos os dados, isto é, treino, validação e teste.\n",
    "\n",
    "A normalização é imprescindível para algoritmos como redes neurais, regressões, kNN, etc"
   ]
  },
  {
   "cell_type": "code",
   "execution_count": 16,
   "metadata": {
    "id": "d4qgslS8tb8X"
   },
   "outputs": [],
   "source": [
    "from sklearn.preprocessing import MinMaxScaler # função do scikit-learn que implementa normalização min-max\n",
    "\n",
    "## O MinMaxScaler transformará os dados para que fiquem no intervalo [0,1]\n",
    "scaler = MinMaxScaler()\n",
    "\n",
    "## Iniciar a normalização dos dados. Primeiro fazer um 'fit' do scaler nos\n",
    "## dados de treino. Esta etapa visa \"aprender\" os parâmetros para normalização.\n",
    "## No caso do MinMaxScales, são os valores mínimos e máximos de cada atributo\n",
    "scaler.fit(X_train)\n",
    "\n",
    "## Aplicar a normalização nos três conjuntos de dados:\n",
    "X_train = scaler.transform(X_train)\n",
    "X_test = scaler.transform(X_test)\n",
    "#X_valid = scaler.transform(X_valid)"
   ]
  },
  {
   "cell_type": "markdown",
   "metadata": {
    "id": "OFMHE-Yo1qMI"
   },
   "source": [
    "### Treinando um modelo de rede neural (Multilayer Perceptron, MLP) - com otimização de hiperparâmetros"
   ]
  },
  {
   "cell_type": "code",
   "execution_count": 17,
   "metadata": {
    "id": "_8EWaULhCsS2"
   },
   "outputs": [
    {
     "name": "stderr",
     "output_type": "stream",
     "text": [
      "/home/pllima0909/Documents/Git/INF01017-Machine-Learning/Supervised_Learning/A02_-_Decision_Trees/.venv/lib/python3.12/site-packages/sklearn/neural_network/_multilayer_perceptron.py:690: ConvergenceWarning: Stochastic Optimizer: Maximum iterations (200) reached and the optimization hasn't converged yet.\n",
      "  warnings.warn(\n",
      "/home/pllima0909/Documents/Git/INF01017-Machine-Learning/Supervised_Learning/A02_-_Decision_Trees/.venv/lib/python3.12/site-packages/sklearn/neural_network/_multilayer_perceptron.py:690: ConvergenceWarning: Stochastic Optimizer: Maximum iterations (200) reached and the optimization hasn't converged yet.\n",
      "  warnings.warn(\n",
      "/home/pllima0909/Documents/Git/INF01017-Machine-Learning/Supervised_Learning/A02_-_Decision_Trees/.venv/lib/python3.12/site-packages/sklearn/neural_network/_multilayer_perceptron.py:690: ConvergenceWarning: Stochastic Optimizer: Maximum iterations (200) reached and the optimization hasn't converged yet.\n",
      "  warnings.warn(\n",
      "/home/pllima0909/Documents/Git/INF01017-Machine-Learning/Supervised_Learning/A02_-_Decision_Trees/.venv/lib/python3.12/site-packages/sklearn/neural_network/_multilayer_perceptron.py:690: ConvergenceWarning: Stochastic Optimizer: Maximum iterations (200) reached and the optimization hasn't converged yet.\n",
      "  warnings.warn(\n",
      "/home/pllima0909/Documents/Git/INF01017-Machine-Learning/Supervised_Learning/A02_-_Decision_Trees/.venv/lib/python3.12/site-packages/sklearn/neural_network/_multilayer_perceptron.py:690: ConvergenceWarning: Stochastic Optimizer: Maximum iterations (200) reached and the optimization hasn't converged yet.\n",
      "  warnings.warn(\n",
      "/home/pllima0909/Documents/Git/INF01017-Machine-Learning/Supervised_Learning/A02_-_Decision_Trees/.venv/lib/python3.12/site-packages/sklearn/neural_network/_multilayer_perceptron.py:690: ConvergenceWarning: Stochastic Optimizer: Maximum iterations (200) reached and the optimization hasn't converged yet.\n",
      "  warnings.warn(\n",
      "/home/pllima0909/Documents/Git/INF01017-Machine-Learning/Supervised_Learning/A02_-_Decision_Trees/.venv/lib/python3.12/site-packages/sklearn/neural_network/_multilayer_perceptron.py:690: ConvergenceWarning: Stochastic Optimizer: Maximum iterations (200) reached and the optimization hasn't converged yet.\n",
      "  warnings.warn(\n",
      "/home/pllima0909/Documents/Git/INF01017-Machine-Learning/Supervised_Learning/A02_-_Decision_Trees/.venv/lib/python3.12/site-packages/sklearn/neural_network/_multilayer_perceptron.py:690: ConvergenceWarning: Stochastic Optimizer: Maximum iterations (200) reached and the optimization hasn't converged yet.\n",
      "  warnings.warn(\n",
      "/home/pllima0909/Documents/Git/INF01017-Machine-Learning/Supervised_Learning/A02_-_Decision_Trees/.venv/lib/python3.12/site-packages/sklearn/neural_network/_multilayer_perceptron.py:690: ConvergenceWarning: Stochastic Optimizer: Maximum iterations (200) reached and the optimization hasn't converged yet.\n",
      "  warnings.warn(\n",
      "/home/pllima0909/Documents/Git/INF01017-Machine-Learning/Supervised_Learning/A02_-_Decision_Trees/.venv/lib/python3.12/site-packages/sklearn/neural_network/_multilayer_perceptron.py:690: ConvergenceWarning: Stochastic Optimizer: Maximum iterations (200) reached and the optimization hasn't converged yet.\n",
      "  warnings.warn(\n",
      "/home/pllima0909/Documents/Git/INF01017-Machine-Learning/Supervised_Learning/A02_-_Decision_Trees/.venv/lib/python3.12/site-packages/sklearn/neural_network/_multilayer_perceptron.py:690: ConvergenceWarning: Stochastic Optimizer: Maximum iterations (200) reached and the optimization hasn't converged yet.\n",
      "  warnings.warn(\n",
      "/home/pllima0909/Documents/Git/INF01017-Machine-Learning/Supervised_Learning/A02_-_Decision_Trees/.venv/lib/python3.12/site-packages/sklearn/neural_network/_multilayer_perceptron.py:690: ConvergenceWarning: Stochastic Optimizer: Maximum iterations (200) reached and the optimization hasn't converged yet.\n",
      "  warnings.warn(\n",
      "/home/pllima0909/Documents/Git/INF01017-Machine-Learning/Supervised_Learning/A02_-_Decision_Trees/.venv/lib/python3.12/site-packages/sklearn/neural_network/_multilayer_perceptron.py:690: ConvergenceWarning: Stochastic Optimizer: Maximum iterations (200) reached and the optimization hasn't converged yet.\n",
      "  warnings.warn(\n",
      "/home/pllima0909/Documents/Git/INF01017-Machine-Learning/Supervised_Learning/A02_-_Decision_Trees/.venv/lib/python3.12/site-packages/sklearn/neural_network/_multilayer_perceptron.py:690: ConvergenceWarning: Stochastic Optimizer: Maximum iterations (200) reached and the optimization hasn't converged yet.\n",
      "  warnings.warn(\n",
      "/home/pllima0909/Documents/Git/INF01017-Machine-Learning/Supervised_Learning/A02_-_Decision_Trees/.venv/lib/python3.12/site-packages/sklearn/neural_network/_multilayer_perceptron.py:690: ConvergenceWarning: Stochastic Optimizer: Maximum iterations (200) reached and the optimization hasn't converged yet.\n",
      "  warnings.warn(\n",
      "/home/pllima0909/Documents/Git/INF01017-Machine-Learning/Supervised_Learning/A02_-_Decision_Trees/.venv/lib/python3.12/site-packages/sklearn/neural_network/_multilayer_perceptron.py:690: ConvergenceWarning: Stochastic Optimizer: Maximum iterations (200) reached and the optimization hasn't converged yet.\n",
      "  warnings.warn(\n",
      "/home/pllima0909/Documents/Git/INF01017-Machine-Learning/Supervised_Learning/A02_-_Decision_Trees/.venv/lib/python3.12/site-packages/sklearn/neural_network/_multilayer_perceptron.py:690: ConvergenceWarning: Stochastic Optimizer: Maximum iterations (200) reached and the optimization hasn't converged yet.\n",
      "  warnings.warn(\n",
      "/home/pllima0909/Documents/Git/INF01017-Machine-Learning/Supervised_Learning/A02_-_Decision_Trees/.venv/lib/python3.12/site-packages/sklearn/neural_network/_multilayer_perceptron.py:690: ConvergenceWarning: Stochastic Optimizer: Maximum iterations (200) reached and the optimization hasn't converged yet.\n",
      "  warnings.warn(\n",
      "/home/pllima0909/Documents/Git/INF01017-Machine-Learning/Supervised_Learning/A02_-_Decision_Trees/.venv/lib/python3.12/site-packages/sklearn/neural_network/_multilayer_perceptron.py:690: ConvergenceWarning: Stochastic Optimizer: Maximum iterations (200) reached and the optimization hasn't converged yet.\n",
      "  warnings.warn(\n",
      "/home/pllima0909/Documents/Git/INF01017-Machine-Learning/Supervised_Learning/A02_-_Decision_Trees/.venv/lib/python3.12/site-packages/sklearn/neural_network/_multilayer_perceptron.py:690: ConvergenceWarning: Stochastic Optimizer: Maximum iterations (200) reached and the optimization hasn't converged yet.\n",
      "  warnings.warn(\n",
      "/home/pllima0909/Documents/Git/INF01017-Machine-Learning/Supervised_Learning/A02_-_Decision_Trees/.venv/lib/python3.12/site-packages/sklearn/neural_network/_multilayer_perceptron.py:690: ConvergenceWarning: Stochastic Optimizer: Maximum iterations (200) reached and the optimization hasn't converged yet.\n",
      "  warnings.warn(\n",
      "/home/pllima0909/Documents/Git/INF01017-Machine-Learning/Supervised_Learning/A02_-_Decision_Trees/.venv/lib/python3.12/site-packages/sklearn/neural_network/_multilayer_perceptron.py:690: ConvergenceWarning: Stochastic Optimizer: Maximum iterations (200) reached and the optimization hasn't converged yet.\n",
      "  warnings.warn(\n",
      "/home/pllima0909/Documents/Git/INF01017-Machine-Learning/Supervised_Learning/A02_-_Decision_Trees/.venv/lib/python3.12/site-packages/sklearn/neural_network/_multilayer_perceptron.py:690: ConvergenceWarning: Stochastic Optimizer: Maximum iterations (200) reached and the optimization hasn't converged yet.\n",
      "  warnings.warn(\n",
      "/home/pllima0909/Documents/Git/INF01017-Machine-Learning/Supervised_Learning/A02_-_Decision_Trees/.venv/lib/python3.12/site-packages/sklearn/neural_network/_multilayer_perceptron.py:690: ConvergenceWarning: Stochastic Optimizer: Maximum iterations (200) reached and the optimization hasn't converged yet.\n",
      "  warnings.warn(\n",
      "/home/pllima0909/Documents/Git/INF01017-Machine-Learning/Supervised_Learning/A02_-_Decision_Trees/.venv/lib/python3.12/site-packages/sklearn/neural_network/_multilayer_perceptron.py:690: ConvergenceWarning: Stochastic Optimizer: Maximum iterations (200) reached and the optimization hasn't converged yet.\n",
      "  warnings.warn(\n",
      "/home/pllima0909/Documents/Git/INF01017-Machine-Learning/Supervised_Learning/A02_-_Decision_Trees/.venv/lib/python3.12/site-packages/sklearn/neural_network/_multilayer_perceptron.py:690: ConvergenceWarning: Stochastic Optimizer: Maximum iterations (200) reached and the optimization hasn't converged yet.\n",
      "  warnings.warn(\n",
      "/home/pllima0909/Documents/Git/INF01017-Machine-Learning/Supervised_Learning/A02_-_Decision_Trees/.venv/lib/python3.12/site-packages/sklearn/neural_network/_multilayer_perceptron.py:690: ConvergenceWarning: Stochastic Optimizer: Maximum iterations (200) reached and the optimization hasn't converged yet.\n",
      "  warnings.warn(\n",
      "/home/pllima0909/Documents/Git/INF01017-Machine-Learning/Supervised_Learning/A02_-_Decision_Trees/.venv/lib/python3.12/site-packages/sklearn/neural_network/_multilayer_perceptron.py:690: ConvergenceWarning: Stochastic Optimizer: Maximum iterations (200) reached and the optimization hasn't converged yet.\n",
      "  warnings.warn(\n",
      "/home/pllima0909/Documents/Git/INF01017-Machine-Learning/Supervised_Learning/A02_-_Decision_Trees/.venv/lib/python3.12/site-packages/sklearn/neural_network/_multilayer_perceptron.py:690: ConvergenceWarning: Stochastic Optimizer: Maximum iterations (200) reached and the optimization hasn't converged yet.\n",
      "  warnings.warn(\n",
      "/home/pllima0909/Documents/Git/INF01017-Machine-Learning/Supervised_Learning/A02_-_Decision_Trees/.venv/lib/python3.12/site-packages/sklearn/neural_network/_multilayer_perceptron.py:690: ConvergenceWarning: Stochastic Optimizer: Maximum iterations (200) reached and the optimization hasn't converged yet.\n",
      "  warnings.warn(\n",
      "/home/pllima0909/Documents/Git/INF01017-Machine-Learning/Supervised_Learning/A02_-_Decision_Trees/.venv/lib/python3.12/site-packages/sklearn/neural_network/_multilayer_perceptron.py:690: ConvergenceWarning: Stochastic Optimizer: Maximum iterations (200) reached and the optimization hasn't converged yet.\n",
      "  warnings.warn(\n",
      "/home/pllima0909/Documents/Git/INF01017-Machine-Learning/Supervised_Learning/A02_-_Decision_Trees/.venv/lib/python3.12/site-packages/sklearn/neural_network/_multilayer_perceptron.py:690: ConvergenceWarning: Stochastic Optimizer: Maximum iterations (200) reached and the optimization hasn't converged yet.\n",
      "  warnings.warn(\n",
      "/home/pllima0909/Documents/Git/INF01017-Machine-Learning/Supervised_Learning/A02_-_Decision_Trees/.venv/lib/python3.12/site-packages/sklearn/neural_network/_multilayer_perceptron.py:690: ConvergenceWarning: Stochastic Optimizer: Maximum iterations (200) reached and the optimization hasn't converged yet.\n",
      "  warnings.warn(\n",
      "/home/pllima0909/Documents/Git/INF01017-Machine-Learning/Supervised_Learning/A02_-_Decision_Trees/.venv/lib/python3.12/site-packages/sklearn/neural_network/_multilayer_perceptron.py:690: ConvergenceWarning: Stochastic Optimizer: Maximum iterations (200) reached and the optimization hasn't converged yet.\n",
      "  warnings.warn(\n",
      "/home/pllima0909/Documents/Git/INF01017-Machine-Learning/Supervised_Learning/A02_-_Decision_Trees/.venv/lib/python3.12/site-packages/sklearn/neural_network/_multilayer_perceptron.py:690: ConvergenceWarning: Stochastic Optimizer: Maximum iterations (200) reached and the optimization hasn't converged yet.\n",
      "  warnings.warn(\n",
      "/home/pllima0909/Documents/Git/INF01017-Machine-Learning/Supervised_Learning/A02_-_Decision_Trees/.venv/lib/python3.12/site-packages/sklearn/neural_network/_multilayer_perceptron.py:690: ConvergenceWarning: Stochastic Optimizer: Maximum iterations (200) reached and the optimization hasn't converged yet.\n",
      "  warnings.warn(\n",
      "/home/pllima0909/Documents/Git/INF01017-Machine-Learning/Supervised_Learning/A02_-_Decision_Trees/.venv/lib/python3.12/site-packages/sklearn/neural_network/_multilayer_perceptron.py:690: ConvergenceWarning: Stochastic Optimizer: Maximum iterations (200) reached and the optimization hasn't converged yet.\n",
      "  warnings.warn(\n",
      "/home/pllima0909/Documents/Git/INF01017-Machine-Learning/Supervised_Learning/A02_-_Decision_Trees/.venv/lib/python3.12/site-packages/sklearn/neural_network/_multilayer_perceptron.py:690: ConvergenceWarning: Stochastic Optimizer: Maximum iterations (200) reached and the optimization hasn't converged yet.\n",
      "  warnings.warn(\n",
      "/home/pllima0909/Documents/Git/INF01017-Machine-Learning/Supervised_Learning/A02_-_Decision_Trees/.venv/lib/python3.12/site-packages/sklearn/neural_network/_multilayer_perceptron.py:690: ConvergenceWarning: Stochastic Optimizer: Maximum iterations (200) reached and the optimization hasn't converged yet.\n",
      "  warnings.warn(\n",
      "/home/pllima0909/Documents/Git/INF01017-Machine-Learning/Supervised_Learning/A02_-_Decision_Trees/.venv/lib/python3.12/site-packages/sklearn/neural_network/_multilayer_perceptron.py:690: ConvergenceWarning: Stochastic Optimizer: Maximum iterations (200) reached and the optimization hasn't converged yet.\n",
      "  warnings.warn(\n"
     ]
    },
    {
     "name": "stdout",
     "output_type": "stream",
     "text": [
      "Best hyperparameters found:\n",
      " {'hidden_layer_sizes': (200, 100, 25)}\n",
      "0.853 (+/-0.045) for {'hidden_layer_sizes': (20,)}\n",
      "0.895 (+/-0.057) for {'hidden_layer_sizes': (50,)}\n",
      "0.899 (+/-0.045) for {'hidden_layer_sizes': (100,)}\n",
      "0.642 (+/-0.018) for {'hidden_layer_sizes': (20, 10)}\n",
      "0.901 (+/-0.028) for {'hidden_layer_sizes': (50, 25)}\n",
      "0.925 (+/-0.056) for {'hidden_layer_sizes': (100, 50)}\n",
      "0.919 (+/-0.045) for {'hidden_layer_sizes': (200, 100)}\n",
      "0.945 (+/-0.028) for {'hidden_layer_sizes': (200, 100, 25)}\n",
      "Results on the test set:\n",
      "              precision    recall  f1-score   support\n",
      "\n",
      "           0       0.97      0.88      0.93        42\n",
      "           1       0.93      0.99      0.96        72\n",
      "\n",
      "    accuracy                           0.95       114\n",
      "   macro avg       0.95      0.93      0.94       114\n",
      "weighted avg       0.95      0.95      0.95       114\n",
      "\n"
     ]
    },
    {
     "name": "stderr",
     "output_type": "stream",
     "text": [
      "/home/pllima0909/Documents/Git/INF01017-Machine-Learning/Supervised_Learning/A02_-_Decision_Trees/.venv/lib/python3.12/site-packages/sklearn/neural_network/_multilayer_perceptron.py:690: ConvergenceWarning: Stochastic Optimizer: Maximum iterations (200) reached and the optimization hasn't converged yet.\n",
      "  warnings.warn(\n"
     ]
    }
   ],
   "source": [
    "from sklearn.model_selection import GridSearchCV\n",
    "mlp_model = MLPClassifier(max_iter=200, activation='relu',solver='sgd',alpha=0.0001,learning_rate='constant',random_state=42)\n",
    "\n",
    "parameter_space = {\n",
    "    'hidden_layer_sizes': [(20,),(50,),(100,),(20,10,),(50,25,),(100,50,),(200,100,),(200,100,25)],\n",
    "}\n",
    "\n",
    "\n",
    "clf = GridSearchCV(mlp_model, parameter_space, n_jobs=-1, cv=5) #otimização de hiperparâmetros com 5-fold cross-validation\n",
    "clf.fit(X_train, y_train)\n",
    "\n",
    "# Melhor configuração de hiperparâmetros\n",
    "print('Best hyperparameters found:\\n', clf.best_params_)\n",
    "\n",
    "# Todos os resultados\n",
    "means = clf.cv_results_['mean_test_score']\n",
    "stds = clf.cv_results_['std_test_score']\n",
    "for mean, std, params in zip(means, stds, clf.cv_results_['params']):\n",
    "    print(\"%0.3f (+/-%0.03f) for %r\" % (mean, std * 2, params))\n",
    "\n",
    "y_true, y_pred = y_test , clf.predict(X_test)\n",
    "\n",
    "print('Results on the test set:')\n",
    "print(classification_report(y_true, y_pred))\n"
   ]
  },
  {
   "cell_type": "code",
   "execution_count": 18,
   "metadata": {
    "id": "jRAzyld7FMLi"
   },
   "outputs": [
    {
     "data": {
      "text/html": [
       "<style>#sk-container-id-1 {\n",
       "  /* Definition of color scheme common for light and dark mode */\n",
       "  --sklearn-color-text: black;\n",
       "  --sklearn-color-line: gray;\n",
       "  /* Definition of color scheme for unfitted estimators */\n",
       "  --sklearn-color-unfitted-level-0: #fff5e6;\n",
       "  --sklearn-color-unfitted-level-1: #f6e4d2;\n",
       "  --sklearn-color-unfitted-level-2: #ffe0b3;\n",
       "  --sklearn-color-unfitted-level-3: chocolate;\n",
       "  /* Definition of color scheme for fitted estimators */\n",
       "  --sklearn-color-fitted-level-0: #f0f8ff;\n",
       "  --sklearn-color-fitted-level-1: #d4ebff;\n",
       "  --sklearn-color-fitted-level-2: #b3dbfd;\n",
       "  --sklearn-color-fitted-level-3: cornflowerblue;\n",
       "\n",
       "  /* Specific color for light theme */\n",
       "  --sklearn-color-text-on-default-background: var(--sg-text-color, var(--theme-code-foreground, var(--jp-content-font-color1, black)));\n",
       "  --sklearn-color-background: var(--sg-background-color, var(--theme-background, var(--jp-layout-color0, white)));\n",
       "  --sklearn-color-border-box: var(--sg-text-color, var(--theme-code-foreground, var(--jp-content-font-color1, black)));\n",
       "  --sklearn-color-icon: #696969;\n",
       "\n",
       "  @media (prefers-color-scheme: dark) {\n",
       "    /* Redefinition of color scheme for dark theme */\n",
       "    --sklearn-color-text-on-default-background: var(--sg-text-color, var(--theme-code-foreground, var(--jp-content-font-color1, white)));\n",
       "    --sklearn-color-background: var(--sg-background-color, var(--theme-background, var(--jp-layout-color0, #111)));\n",
       "    --sklearn-color-border-box: var(--sg-text-color, var(--theme-code-foreground, var(--jp-content-font-color1, white)));\n",
       "    --sklearn-color-icon: #878787;\n",
       "  }\n",
       "}\n",
       "\n",
       "#sk-container-id-1 {\n",
       "  color: var(--sklearn-color-text);\n",
       "}\n",
       "\n",
       "#sk-container-id-1 pre {\n",
       "  padding: 0;\n",
       "}\n",
       "\n",
       "#sk-container-id-1 input.sk-hidden--visually {\n",
       "  border: 0;\n",
       "  clip: rect(1px 1px 1px 1px);\n",
       "  clip: rect(1px, 1px, 1px, 1px);\n",
       "  height: 1px;\n",
       "  margin: -1px;\n",
       "  overflow: hidden;\n",
       "  padding: 0;\n",
       "  position: absolute;\n",
       "  width: 1px;\n",
       "}\n",
       "\n",
       "#sk-container-id-1 div.sk-dashed-wrapped {\n",
       "  border: 1px dashed var(--sklearn-color-line);\n",
       "  margin: 0 0.4em 0.5em 0.4em;\n",
       "  box-sizing: border-box;\n",
       "  padding-bottom: 0.4em;\n",
       "  background-color: var(--sklearn-color-background);\n",
       "}\n",
       "\n",
       "#sk-container-id-1 div.sk-container {\n",
       "  /* jupyter's `normalize.less` sets `[hidden] { display: none; }`\n",
       "     but bootstrap.min.css set `[hidden] { display: none !important; }`\n",
       "     so we also need the `!important` here to be able to override the\n",
       "     default hidden behavior on the sphinx rendered scikit-learn.org.\n",
       "     See: https://github.com/scikit-learn/scikit-learn/issues/21755 */\n",
       "  display: inline-block !important;\n",
       "  position: relative;\n",
       "}\n",
       "\n",
       "#sk-container-id-1 div.sk-text-repr-fallback {\n",
       "  display: none;\n",
       "}\n",
       "\n",
       "div.sk-parallel-item,\n",
       "div.sk-serial,\n",
       "div.sk-item {\n",
       "  /* draw centered vertical line to link estimators */\n",
       "  background-image: linear-gradient(var(--sklearn-color-text-on-default-background), var(--sklearn-color-text-on-default-background));\n",
       "  background-size: 2px 100%;\n",
       "  background-repeat: no-repeat;\n",
       "  background-position: center center;\n",
       "}\n",
       "\n",
       "/* Parallel-specific style estimator block */\n",
       "\n",
       "#sk-container-id-1 div.sk-parallel-item::after {\n",
       "  content: \"\";\n",
       "  width: 100%;\n",
       "  border-bottom: 2px solid var(--sklearn-color-text-on-default-background);\n",
       "  flex-grow: 1;\n",
       "}\n",
       "\n",
       "#sk-container-id-1 div.sk-parallel {\n",
       "  display: flex;\n",
       "  align-items: stretch;\n",
       "  justify-content: center;\n",
       "  background-color: var(--sklearn-color-background);\n",
       "  position: relative;\n",
       "}\n",
       "\n",
       "#sk-container-id-1 div.sk-parallel-item {\n",
       "  display: flex;\n",
       "  flex-direction: column;\n",
       "}\n",
       "\n",
       "#sk-container-id-1 div.sk-parallel-item:first-child::after {\n",
       "  align-self: flex-end;\n",
       "  width: 50%;\n",
       "}\n",
       "\n",
       "#sk-container-id-1 div.sk-parallel-item:last-child::after {\n",
       "  align-self: flex-start;\n",
       "  width: 50%;\n",
       "}\n",
       "\n",
       "#sk-container-id-1 div.sk-parallel-item:only-child::after {\n",
       "  width: 0;\n",
       "}\n",
       "\n",
       "/* Serial-specific style estimator block */\n",
       "\n",
       "#sk-container-id-1 div.sk-serial {\n",
       "  display: flex;\n",
       "  flex-direction: column;\n",
       "  align-items: center;\n",
       "  background-color: var(--sklearn-color-background);\n",
       "  padding-right: 1em;\n",
       "  padding-left: 1em;\n",
       "}\n",
       "\n",
       "\n",
       "/* Toggleable style: style used for estimator/Pipeline/ColumnTransformer box that is\n",
       "clickable and can be expanded/collapsed.\n",
       "- Pipeline and ColumnTransformer use this feature and define the default style\n",
       "- Estimators will overwrite some part of the style using the `sk-estimator` class\n",
       "*/\n",
       "\n",
       "/* Pipeline and ColumnTransformer style (default) */\n",
       "\n",
       "#sk-container-id-1 div.sk-toggleable {\n",
       "  /* Default theme specific background. It is overwritten whether we have a\n",
       "  specific estimator or a Pipeline/ColumnTransformer */\n",
       "  background-color: var(--sklearn-color-background);\n",
       "}\n",
       "\n",
       "/* Toggleable label */\n",
       "#sk-container-id-1 label.sk-toggleable__label {\n",
       "  cursor: pointer;\n",
       "  display: block;\n",
       "  width: 100%;\n",
       "  margin-bottom: 0;\n",
       "  padding: 0.5em;\n",
       "  box-sizing: border-box;\n",
       "  text-align: center;\n",
       "}\n",
       "\n",
       "#sk-container-id-1 label.sk-toggleable__label-arrow:before {\n",
       "  /* Arrow on the left of the label */\n",
       "  content: \"▸\";\n",
       "  float: left;\n",
       "  margin-right: 0.25em;\n",
       "  color: var(--sklearn-color-icon);\n",
       "}\n",
       "\n",
       "#sk-container-id-1 label.sk-toggleable__label-arrow:hover:before {\n",
       "  color: var(--sklearn-color-text);\n",
       "}\n",
       "\n",
       "/* Toggleable content - dropdown */\n",
       "\n",
       "#sk-container-id-1 div.sk-toggleable__content {\n",
       "  max-height: 0;\n",
       "  max-width: 0;\n",
       "  overflow: hidden;\n",
       "  text-align: left;\n",
       "  /* unfitted */\n",
       "  background-color: var(--sklearn-color-unfitted-level-0);\n",
       "}\n",
       "\n",
       "#sk-container-id-1 div.sk-toggleable__content.fitted {\n",
       "  /* fitted */\n",
       "  background-color: var(--sklearn-color-fitted-level-0);\n",
       "}\n",
       "\n",
       "#sk-container-id-1 div.sk-toggleable__content pre {\n",
       "  margin: 0.2em;\n",
       "  border-radius: 0.25em;\n",
       "  color: var(--sklearn-color-text);\n",
       "  /* unfitted */\n",
       "  background-color: var(--sklearn-color-unfitted-level-0);\n",
       "}\n",
       "\n",
       "#sk-container-id-1 div.sk-toggleable__content.fitted pre {\n",
       "  /* unfitted */\n",
       "  background-color: var(--sklearn-color-fitted-level-0);\n",
       "}\n",
       "\n",
       "#sk-container-id-1 input.sk-toggleable__control:checked~div.sk-toggleable__content {\n",
       "  /* Expand drop-down */\n",
       "  max-height: 200px;\n",
       "  max-width: 100%;\n",
       "  overflow: auto;\n",
       "}\n",
       "\n",
       "#sk-container-id-1 input.sk-toggleable__control:checked~label.sk-toggleable__label-arrow:before {\n",
       "  content: \"▾\";\n",
       "}\n",
       "\n",
       "/* Pipeline/ColumnTransformer-specific style */\n",
       "\n",
       "#sk-container-id-1 div.sk-label input.sk-toggleable__control:checked~label.sk-toggleable__label {\n",
       "  color: var(--sklearn-color-text);\n",
       "  background-color: var(--sklearn-color-unfitted-level-2);\n",
       "}\n",
       "\n",
       "#sk-container-id-1 div.sk-label.fitted input.sk-toggleable__control:checked~label.sk-toggleable__label {\n",
       "  background-color: var(--sklearn-color-fitted-level-2);\n",
       "}\n",
       "\n",
       "/* Estimator-specific style */\n",
       "\n",
       "/* Colorize estimator box */\n",
       "#sk-container-id-1 div.sk-estimator input.sk-toggleable__control:checked~label.sk-toggleable__label {\n",
       "  /* unfitted */\n",
       "  background-color: var(--sklearn-color-unfitted-level-2);\n",
       "}\n",
       "\n",
       "#sk-container-id-1 div.sk-estimator.fitted input.sk-toggleable__control:checked~label.sk-toggleable__label {\n",
       "  /* fitted */\n",
       "  background-color: var(--sklearn-color-fitted-level-2);\n",
       "}\n",
       "\n",
       "#sk-container-id-1 div.sk-label label.sk-toggleable__label,\n",
       "#sk-container-id-1 div.sk-label label {\n",
       "  /* The background is the default theme color */\n",
       "  color: var(--sklearn-color-text-on-default-background);\n",
       "}\n",
       "\n",
       "/* On hover, darken the color of the background */\n",
       "#sk-container-id-1 div.sk-label:hover label.sk-toggleable__label {\n",
       "  color: var(--sklearn-color-text);\n",
       "  background-color: var(--sklearn-color-unfitted-level-2);\n",
       "}\n",
       "\n",
       "/* Label box, darken color on hover, fitted */\n",
       "#sk-container-id-1 div.sk-label.fitted:hover label.sk-toggleable__label.fitted {\n",
       "  color: var(--sklearn-color-text);\n",
       "  background-color: var(--sklearn-color-fitted-level-2);\n",
       "}\n",
       "\n",
       "/* Estimator label */\n",
       "\n",
       "#sk-container-id-1 div.sk-label label {\n",
       "  font-family: monospace;\n",
       "  font-weight: bold;\n",
       "  display: inline-block;\n",
       "  line-height: 1.2em;\n",
       "}\n",
       "\n",
       "#sk-container-id-1 div.sk-label-container {\n",
       "  text-align: center;\n",
       "}\n",
       "\n",
       "/* Estimator-specific */\n",
       "#sk-container-id-1 div.sk-estimator {\n",
       "  font-family: monospace;\n",
       "  border: 1px dotted var(--sklearn-color-border-box);\n",
       "  border-radius: 0.25em;\n",
       "  box-sizing: border-box;\n",
       "  margin-bottom: 0.5em;\n",
       "  /* unfitted */\n",
       "  background-color: var(--sklearn-color-unfitted-level-0);\n",
       "}\n",
       "\n",
       "#sk-container-id-1 div.sk-estimator.fitted {\n",
       "  /* fitted */\n",
       "  background-color: var(--sklearn-color-fitted-level-0);\n",
       "}\n",
       "\n",
       "/* on hover */\n",
       "#sk-container-id-1 div.sk-estimator:hover {\n",
       "  /* unfitted */\n",
       "  background-color: var(--sklearn-color-unfitted-level-2);\n",
       "}\n",
       "\n",
       "#sk-container-id-1 div.sk-estimator.fitted:hover {\n",
       "  /* fitted */\n",
       "  background-color: var(--sklearn-color-fitted-level-2);\n",
       "}\n",
       "\n",
       "/* Specification for estimator info (e.g. \"i\" and \"?\") */\n",
       "\n",
       "/* Common style for \"i\" and \"?\" */\n",
       "\n",
       ".sk-estimator-doc-link,\n",
       "a:link.sk-estimator-doc-link,\n",
       "a:visited.sk-estimator-doc-link {\n",
       "  float: right;\n",
       "  font-size: smaller;\n",
       "  line-height: 1em;\n",
       "  font-family: monospace;\n",
       "  background-color: var(--sklearn-color-background);\n",
       "  border-radius: 1em;\n",
       "  height: 1em;\n",
       "  width: 1em;\n",
       "  text-decoration: none !important;\n",
       "  margin-left: 1ex;\n",
       "  /* unfitted */\n",
       "  border: var(--sklearn-color-unfitted-level-1) 1pt solid;\n",
       "  color: var(--sklearn-color-unfitted-level-1);\n",
       "}\n",
       "\n",
       ".sk-estimator-doc-link.fitted,\n",
       "a:link.sk-estimator-doc-link.fitted,\n",
       "a:visited.sk-estimator-doc-link.fitted {\n",
       "  /* fitted */\n",
       "  border: var(--sklearn-color-fitted-level-1) 1pt solid;\n",
       "  color: var(--sklearn-color-fitted-level-1);\n",
       "}\n",
       "\n",
       "/* On hover */\n",
       "div.sk-estimator:hover .sk-estimator-doc-link:hover,\n",
       ".sk-estimator-doc-link:hover,\n",
       "div.sk-label-container:hover .sk-estimator-doc-link:hover,\n",
       ".sk-estimator-doc-link:hover {\n",
       "  /* unfitted */\n",
       "  background-color: var(--sklearn-color-unfitted-level-3);\n",
       "  color: var(--sklearn-color-background);\n",
       "  text-decoration: none;\n",
       "}\n",
       "\n",
       "div.sk-estimator.fitted:hover .sk-estimator-doc-link.fitted:hover,\n",
       ".sk-estimator-doc-link.fitted:hover,\n",
       "div.sk-label-container:hover .sk-estimator-doc-link.fitted:hover,\n",
       ".sk-estimator-doc-link.fitted:hover {\n",
       "  /* fitted */\n",
       "  background-color: var(--sklearn-color-fitted-level-3);\n",
       "  color: var(--sklearn-color-background);\n",
       "  text-decoration: none;\n",
       "}\n",
       "\n",
       "/* Span, style for the box shown on hovering the info icon */\n",
       ".sk-estimator-doc-link span {\n",
       "  display: none;\n",
       "  z-index: 9999;\n",
       "  position: relative;\n",
       "  font-weight: normal;\n",
       "  right: .2ex;\n",
       "  padding: .5ex;\n",
       "  margin: .5ex;\n",
       "  width: min-content;\n",
       "  min-width: 20ex;\n",
       "  max-width: 50ex;\n",
       "  color: var(--sklearn-color-text);\n",
       "  box-shadow: 2pt 2pt 4pt #999;\n",
       "  /* unfitted */\n",
       "  background: var(--sklearn-color-unfitted-level-0);\n",
       "  border: .5pt solid var(--sklearn-color-unfitted-level-3);\n",
       "}\n",
       "\n",
       ".sk-estimator-doc-link.fitted span {\n",
       "  /* fitted */\n",
       "  background: var(--sklearn-color-fitted-level-0);\n",
       "  border: var(--sklearn-color-fitted-level-3);\n",
       "}\n",
       "\n",
       ".sk-estimator-doc-link:hover span {\n",
       "  display: block;\n",
       "}\n",
       "\n",
       "/* \"?\"-specific style due to the `<a>` HTML tag */\n",
       "\n",
       "#sk-container-id-1 a.estimator_doc_link {\n",
       "  float: right;\n",
       "  font-size: 1rem;\n",
       "  line-height: 1em;\n",
       "  font-family: monospace;\n",
       "  background-color: var(--sklearn-color-background);\n",
       "  border-radius: 1rem;\n",
       "  height: 1rem;\n",
       "  width: 1rem;\n",
       "  text-decoration: none;\n",
       "  /* unfitted */\n",
       "  color: var(--sklearn-color-unfitted-level-1);\n",
       "  border: var(--sklearn-color-unfitted-level-1) 1pt solid;\n",
       "}\n",
       "\n",
       "#sk-container-id-1 a.estimator_doc_link.fitted {\n",
       "  /* fitted */\n",
       "  border: var(--sklearn-color-fitted-level-1) 1pt solid;\n",
       "  color: var(--sklearn-color-fitted-level-1);\n",
       "}\n",
       "\n",
       "/* On hover */\n",
       "#sk-container-id-1 a.estimator_doc_link:hover {\n",
       "  /* unfitted */\n",
       "  background-color: var(--sklearn-color-unfitted-level-3);\n",
       "  color: var(--sklearn-color-background);\n",
       "  text-decoration: none;\n",
       "}\n",
       "\n",
       "#sk-container-id-1 a.estimator_doc_link.fitted:hover {\n",
       "  /* fitted */\n",
       "  background-color: var(--sklearn-color-fitted-level-3);\n",
       "}\n",
       "</style><div id=\"sk-container-id-1\" class=\"sk-top-container\"><div class=\"sk-text-repr-fallback\"><pre>GridSearchCV(cv=5, estimator=MLPClassifier(random_state=42, solver=&#x27;sgd&#x27;),\n",
       "             n_jobs=-1,\n",
       "             param_grid={&#x27;hidden_layer_sizes&#x27;: [(20,), (50,), (100,), (20, 10),\n",
       "                                                (50, 25), (100, 50), (200, 100),\n",
       "                                                (200, 100, 25)]})</pre><b>In a Jupyter environment, please rerun this cell to show the HTML representation or trust the notebook. <br />On GitHub, the HTML representation is unable to render, please try loading this page with nbviewer.org.</b></div><div class=\"sk-container\" hidden><div class=\"sk-item sk-dashed-wrapped\"><div class=\"sk-label-container\"><div class=\"sk-label fitted sk-toggleable\"><input class=\"sk-toggleable__control sk-hidden--visually\" id=\"sk-estimator-id-1\" type=\"checkbox\" ><label for=\"sk-estimator-id-1\" class=\"sk-toggleable__label fitted sk-toggleable__label-arrow fitted\">&nbsp;&nbsp;GridSearchCV<a class=\"sk-estimator-doc-link fitted\" rel=\"noreferrer\" target=\"_blank\" href=\"https://scikit-learn.org/1.5/modules/generated/sklearn.model_selection.GridSearchCV.html\">?<span>Documentation for GridSearchCV</span></a><span class=\"sk-estimator-doc-link fitted\">i<span>Fitted</span></span></label><div class=\"sk-toggleable__content fitted\"><pre>GridSearchCV(cv=5, estimator=MLPClassifier(random_state=42, solver=&#x27;sgd&#x27;),\n",
       "             n_jobs=-1,\n",
       "             param_grid={&#x27;hidden_layer_sizes&#x27;: [(20,), (50,), (100,), (20, 10),\n",
       "                                                (50, 25), (100, 50), (200, 100),\n",
       "                                                (200, 100, 25)]})</pre></div> </div></div><div class=\"sk-parallel\"><div class=\"sk-parallel-item\"><div class=\"sk-item\"><div class=\"sk-label-container\"><div class=\"sk-label fitted sk-toggleable\"><input class=\"sk-toggleable__control sk-hidden--visually\" id=\"sk-estimator-id-2\" type=\"checkbox\" ><label for=\"sk-estimator-id-2\" class=\"sk-toggleable__label fitted sk-toggleable__label-arrow fitted\">best_estimator_: MLPClassifier</label><div class=\"sk-toggleable__content fitted\"><pre>MLPClassifier(hidden_layer_sizes=(200, 100, 25), random_state=42, solver=&#x27;sgd&#x27;)</pre></div> </div></div><div class=\"sk-serial\"><div class=\"sk-item\"><div class=\"sk-estimator fitted sk-toggleable\"><input class=\"sk-toggleable__control sk-hidden--visually\" id=\"sk-estimator-id-3\" type=\"checkbox\" ><label for=\"sk-estimator-id-3\" class=\"sk-toggleable__label fitted sk-toggleable__label-arrow fitted\">&nbsp;MLPClassifier<a class=\"sk-estimator-doc-link fitted\" rel=\"noreferrer\" target=\"_blank\" href=\"https://scikit-learn.org/1.5/modules/generated/sklearn.neural_network.MLPClassifier.html\">?<span>Documentation for MLPClassifier</span></a></label><div class=\"sk-toggleable__content fitted\"><pre>MLPClassifier(hidden_layer_sizes=(200, 100, 25), random_state=42, solver=&#x27;sgd&#x27;)</pre></div> </div></div></div></div></div></div></div></div></div>"
      ],
      "text/plain": [
       "GridSearchCV(cv=5, estimator=MLPClassifier(random_state=42, solver='sgd'),\n",
       "             n_jobs=-1,\n",
       "             param_grid={'hidden_layer_sizes': [(20,), (50,), (100,), (20, 10),\n",
       "                                                (50, 25), (100, 50), (200, 100),\n",
       "                                                (200, 100, 25)]})"
      ]
     },
     "execution_count": 18,
     "metadata": {},
     "output_type": "execute_result"
    }
   ],
   "source": [
    "clf"
   ]
  },
  {
   "cell_type": "code",
   "execution_count": 19,
   "metadata": {
    "id": "Y-MGU6fWF3s1"
   },
   "outputs": [
    {
     "data": {
      "image/png": "[encoded data removed]",
      "text/plain": [
       "<Figure size 640x480 with 2 Axes>"
      ]
     },
     "metadata": {},
     "output_type": "display_data"
    }
   ],
   "source": [
    "cm = confusion_matrix(y_true, y_pred,labels=clf.classes_)\n",
    "disp = ConfusionMatrixDisplay(confusion_matrix=cm, display_labels=clf.classes_)\n",
    "disp = disp.plot(include_values=True, cmap='Blues', ax=None, xticks_rotation='horizontal')\n",
    "plt.grid(False)\n",
    "plt.show()"
   ]
  },
  {
   "cell_type": "markdown",
   "metadata": {
    "id": "xvQItjrUD8C8"
   },
   "source": [
    "### Analisando o impacto da divisão aleatória de dados no desempenho de modelos\n",
    "\n",
    "\n"
   ]
  },
  {
   "cell_type": "markdown",
   "metadata": {
    "id": "A1vIIbQAnIC0"
   },
   "source": [
    "Esta análise será feita considerando um holdout simples, de 2 vias. A divisão de dados será repetida 30 vezes, variando o random_state (semente aleatória), para assegurar divisões distintas dos dados. Em todos os casos, estamos dividindo os dados em 70% treino e 30% teste.\n",
    "\n",
    "**Atenção:** Para controlar o tempo de execução deste experimento, foi definido um máximo de 100 iterações no treinamento da rede neural. O número máximo de iterações estabelecido no código pode não ser o suficiente para a convergência do algoritmo de aprendizado, e isso pode gerar Warnings na execução. Como o intuito deste notebook é avaliar impacto de algumas decisões de divisão de dados no desmepenho do algoritmo, o fato de não atingirmos a melhor faixa de desempenho possível não é um empecilho para compreensão dos experimentos."
   ]
  },
  {
   "cell_type": "code",
   "execution_count": null,
   "metadata": {
    "id": "a5auaqizzuHh"
   },
   "outputs": [],
   "source": [
    "# Inicializar listas para armazenar os resultados\n",
    "accuracies = []\n",
    "random_states = []\n",
    "\n",
    "# Avaliar modelos 30 vezes, variando o random_state\n",
    "for i in range(30):\n",
    "    random_state = np.random.randint(0, 1000)  # Gerar um random_state aleatório\n",
    "    random_states.append(random_state)\n",
    "\n",
    "    # Dividir os dados entre treino e teste (proporção fixa)\n",
    "    X_train, X_test, y_train, y_test = train_test_split(X, y, test_size=0.3, random_state=random_state)\n",
    "\n",
    "    # Normalizar dados\n",
    "    scaler.fit(X_train)\n",
    "    X_train = scaler.transform(X_train)\n",
    "    X_test = scaler.transform(X_test)\n",
    "\n",
    "    # Treinar o modelo\n",
    "    clf = MLPClassifier(max_iter=100, activation='relu',solver='adam',alpha=0.0001,learning_rate='constant',hidden_layer_sizes=(200, 100, 25),random_state=42) #random state fixo para controlar a aleatoriedade do algoritmo MLP\n",
    "    clf.fit(X_train, y_train)\n",
    "\n",
    "    # Classificação e avaliação no conjunto de teste\n",
    "    y_pred = clf.predict(X_test)\n",
    "    accuracy = accuracy_score(y_test, y_pred)\n",
    "    accuracies.append(accuracy*100)\n",
    "\n",
    "\n",
    "    # Exibir o desempenho a cada iteração\n",
    "    print(f\"Iteração {i+1}: Random State={random_state}, Acurácia={accuracy:.2f}\")\n",
    "\n",
    "\n",
    "# Plotar a variação das acurácias\n",
    "plt.figure(figsize=(10,6))\n",
    "plt.plot(range(1, 31), accuracies, marker='o', linestyle='--', color='b')\n",
    "plt.title('Variação da Acurácia do Modelo em 30 Iterações com Random State Diferente')\n",
    "plt.xlabel('Iteração')\n",
    "plt.ylabel('Acurácia')\n",
    "plt.xticks(range(1, 31))\n",
    "plt.grid(True)\n",
    "plt.show()"
   ]
  },
  {
   "cell_type": "code",
   "execution_count": null,
   "metadata": {
    "id": "XURprcLG0Gpu"
   },
   "outputs": [],
   "source": [
    "# Amplitude dos resultados\n",
    "max(accuracies) - min(accuracies)"
   ]
  },
  {
   "cell_type": "markdown",
   "metadata": {
    "id": "RUJqwwZxJ428"
   },
   "source": [
    "**>> Analise e Discuta:**\n",
    "\n",
    "Observe a variação do valor de *random_state* na divisão dos dados e os respectivos resultados do desempenho na classificação. Como isso afeta os resultados?  Explique o impacto de diferentes divisões dos dados de treino/teste no desempenho dos modelos. Por que é importante repetir os experimentos várias vezes, variando o random_state da divisão dos? O que a repetição traz em termos de confiabilidade dos resultados?\n",
    "\n",
    "Se desejar, retire o random_state do algoritmo MLP (atualmente configurado como 42) e observe como isso impacta os resultados e suas conclusões.\n",
    "\n"
   ]
  },
  {
   "cell_type": "markdown",
   "metadata": {
    "id": "LsmnXPk9nd2x"
   },
   "source": [
    "**Sua resposta aqui:**\n",
    "\n",
    "---"
   ]
  },
  {
   "cell_type": "markdown",
   "metadata": {
    "id": "7ZF7RT_jEm_B"
   },
   "source": [
    "### Analisando o impacto do tamanho do conjunto de teste na avaliação de desempenho dos modelos\n",
    "\n"
   ]
  },
  {
   "cell_type": "markdown",
   "metadata": {
    "id": "XG7932NDn6qN"
   },
   "source": [
    "Esta análise será feita considerando um holdout simples, de 2 vias. A divisão de dados será repetida 10 vezes para cada proporção pré-definida de dados de teste, variando o random_state (semente aleatória) para assegurar divisões distintas dos dados. São testadas divisões que variam de 5% a 70% dos dados para o conjunto de teste."
   ]
  },
  {
   "cell_type": "markdown",
   "metadata": {
    "id": "bTqZWIEgwWIk"
   },
   "source": [
    "**Atenção:** Para controlar o tempo de execução deste experimento, foi definido um máximo de 100 iterações no treinamento da rede neural. O número máximo de iterações estabelecido no código pode não ser o suficiente para a convergência do algoritmo de aprendizado, e isso pode gerar Warnings na execução. Como o intuito deste notebook é avaliar impacto de algumas decisões de divisão de dados no desmepenho do algoritmo, o fato de não atingirmos a melhor faixa de desempenho possível não é um empecilho para compreensão dos experimentos."
   ]
  },
  {
   "cell_type": "code",
   "execution_count": null,
   "metadata": {
    "id": "KBk-_Obc6kZl"
   },
   "outputs": [],
   "source": [
    "# Inicializar listas para armazenar resultados\n",
    "variances = []\n",
    "amplitudes = []\n",
    "avg_accuracies = []\n",
    "\n",
    "# Definir as proporções de conjunto de teste\n",
    "test_sizes = np.arange(0.05, 0.70, 0.05)\n",
    "\n",
    "# Loop para cada proporção de conjunto de teste\n",
    "for test_size in test_sizes:\n",
    "    accuracies = []\n",
    "\n",
    "    # Repetir o experimento 10 vezes para cada tamanho de conjunto de teste\n",
    "    for i in range(10):\n",
    "        random_state = np.random.randint(0, 1000)\n",
    "\n",
    "        # Dividir os dados com a proporção especificada para o conjunto de teste\n",
    "        X_train, X_test, y_train, y_test = train_test_split(X, y, test_size=test_size, random_state=random_state)\n",
    "\n",
    "        # Normalizar dados\n",
    "        scaler.fit(X_train)\n",
    "        X_train = scaler.transform(X_train)\n",
    "        X_test = scaler.transform(X_test)\n",
    "\n",
    "        # Treinar o modelo\n",
    "        clf = MLPClassifier(max_iter=100, activation='relu',solver='adam',alpha=0.0001,learning_rate='constant',hidden_layer_sizes=(200, 100, 25),random_state=42) #random state fixo para controlar a aleatoriedade do algoritmo MLP\n",
    "        clf.fit(X_train, y_train)\n",
    "\n",
    "        # Classificação e avaliação no conjunto de teste\n",
    "        y_pred = clf.predict(X_test)\n",
    "        accuracy = accuracy_score(y_test, y_pred)\n",
    "        accuracies.append(accuracy*100)\n",
    "\n",
    "    # Calcular variância, amplitude e média dos desempenhos\n",
    "    variance = np.var(accuracies)\n",
    "    amplitude = np.max(accuracies) - np.min(accuracies)\n",
    "    avg_accuracy = np.mean(accuracies)\n",
    "\n",
    "    # Armazenar os resultados\n",
    "    variances.append(variance)\n",
    "    amplitudes.append(amplitude)\n",
    "    avg_accuracies.append(avg_accuracy)\n",
    "\n",
    "    # Exibir os resultados intermediários\n",
    "    print(f\"Tamanho do Conjunto de Teste: {test_size*100:.1f}%\")\n",
    "    print(f\"   Média da Acurácia: {avg_accuracy:.3f}\")\n",
    "    print(f\"   Variância: {variance:.5f}\")\n",
    "    print(f\"   Amplitude (Máx - Mín): {amplitude:.3f}\")\n",
    "    print(\"\")\n",
    "\n",
    "# Gráfico: Variação da Acurácia com Diferentes Tamanhos de Conjunto de Teste\n",
    "plt.figure(figsize=(10,6))\n",
    "plt.plot(test_sizes * 100, avg_accuracies, marker='o', linestyle='--', color='b', label=\"Média das Acurácias\")\n",
    "plt.title('Média da Acurácia com Diferentes Tamanhos de Conjunto de Teste')\n",
    "plt.xlabel('Tamanho do Conjunto de Teste (%)')\n",
    "plt.ylabel('Média da Acurácia')\n",
    "plt.grid(True)\n",
    "plt.legend()\n",
    "plt.show()\n",
    "\n",
    "# Gráfico: Variância vs Tamanho do Conjunto de Teste\n",
    "plt.figure(figsize=(10,6))\n",
    "plt.scatter(test_sizes * 100, variances, color='r', label=\"Variância do Desempenho\")\n",
    "plt.title('Variância do Desempenho vs Tamanho do Conjunto de Teste')\n",
    "plt.xlabel('Tamanho do Conjunto de Teste (%)')\n",
    "plt.ylabel('Variância do Desempenho')\n",
    "plt.grid(True)\n",
    "plt.legend()\n",
    "plt.show()\n",
    "\n",
    "# Gráfico: Amplitude vs Tamanho do Conjunto de Teste\n",
    "plt.figure(figsize=(10,6))\n",
    "plt.scatter(test_sizes * 100, amplitudes, color='g', label=\"Amplitude (Máx - Mín)\")\n",
    "plt.title('Amplitude do Desempenho vs Tamanho do Conjunto de Teste')\n",
    "plt.xlabel('Tamanho do Conjunto de Teste (%)')\n",
    "plt.ylabel('Amplitude do Desempenho')\n",
    "plt.grid(True)\n",
    "plt.legend()\n",
    "plt.show()"
   ]
  },
  {
   "cell_type": "markdown",
   "metadata": {
    "id": "eIRXrBjtLHVj"
   },
   "source": [
    "**>> Analise e Discuta:**\n",
    "\n",
    "Conforme o tamanho do conjunto de teste aumenta, como muda a variância no desempenho do modelo? Por que esse comportamento ocorre? Ao comparar a amplitude (diferença entre o máximo e o mínimo) do desempenho em diferentes tamanhos de conjunto de teste, o que você observa? Qual é a relação entre o tamanho do teste e a amplitude dos resultados?\n",
    "\n",
    "Se a variância dos resultados de acurácia for muito alta, o que isso pode indicar sobre o seu modelo ou sobre a forma como os dados estão sendo divididos?\n",
    "\n",
    "\n",
    "\n",
    "\n",
    "**Sua resposta aqui:**\n",
    "\n",
    "---"
   ]
  },
  {
   "cell_type": "markdown",
   "metadata": {
    "id": "DV7YEZf_Eu39"
   },
   "source": [
    "### Analisando o impacto do tamanho do conjunto de treino na avaliação de desempenho dos modelos\n",
    "\n"
   ]
  },
  {
   "cell_type": "markdown",
   "metadata": {
    "id": "MK4VtAFbGhx3"
   },
   "source": [
    "Esta análise será feita considerando um holdout simples, de 2 vias. A divisão de dados será repetida 10 vezes para cada proporção pré-definida de dados de treino, variando o random_state (semente aleatória) para assegurar divisões distintas dos dados. São testadas divisões que variam de 5% a 80% dos dados para o conjunto de treino, usando um conjunto de teste fixo."
   ]
  },
  {
   "cell_type": "markdown",
   "metadata": {
    "id": "m5Q_-_Z2GIr6"
   },
   "source": [
    "**Atenção:** Para controlar o tempo de execução deste experimento, foi definido um máximo de 100 iterações no treinamento da rede neural. O número máximo de iterações estabelecido no código pode não ser o suficiente para a convergência do algoritmo de aprendizado, e isso pode gerar Warnings na execução. Como o intuito deste notebook é avaliar impacto de algumas decisões de divisão de dados no desmepenho do algoritmo, o fato de não atingirmos a melhor faixa de desempenho possível não é um empecilho para compreensão dos experimentos."
   ]
  },
  {
   "cell_type": "code",
   "execution_count": null,
   "metadata": {
    "id": "FijN9td6-fKQ"
   },
   "outputs": [],
   "source": [
    "# Função para rodar o treinamento do algoritmo com diferentes tamanhos de treino\n",
    "def run_training_analysis(X, y, test_size=0.1, train_sizes=[0.1, 0.2,0.3, 0.4, 0.5, 0.6, 0.7, 0.8], iterations=10):\n",
    "    results = {}\n",
    "\n",
    "    # Fixando o conjunto de teste\n",
    "    X_train_full, X_test, y_train_full, y_test = train_test_split(X, y, test_size=test_size, random_state=42)\n",
    "\n",
    "    # Normalizar dados\n",
    "    scaler.fit(X_train_full)\n",
    "    X_train = scaler.transform(X_train_full)\n",
    "    X_test = scaler.transform(X_test)\n",
    "\n",
    "    for train_size in train_sizes:\n",
    "        accuracies = []\n",
    "        for _ in range(iterations):\n",
    "            # Variando o tamanho do conjunto de treino (fixando o conjunto de teste)\n",
    "            X_train, _, y_train, _ = train_test_split(X_train_full, y_train_full, train_size=train_size, random_state=None)\n",
    "\n",
    "            # Treinar o modelo\n",
    "            clf = MLPClassifier(max_iter=100, activation='relu',solver='adam',alpha=0.0001,learning_rate='constant',random_state=42) #random state fixo para controlar a aleatoriedade do algoritmo MLP\n",
    "            clf.fit(X_train, y_train)\n",
    "\n",
    "            # Classificação e avaliação no conjunto de teste\n",
    "            y_pred = clf.predict(X_test)\n",
    "            accuracy = accuracy_score(y_test, y_pred)\n",
    "            accuracies.append(accuracy*100)\n",
    "\n",
    "        # Calculando a variância e a amplitude (máx - mín) das acurácias\n",
    "        variance = np.var(accuracies)\n",
    "        amplitude = np.max(accuracies) - np.min(accuracies)\n",
    "        average = np.mean(accuracies)\n",
    "        results[train_size] = {'accuracies': accuracies, 'variance': variance, 'amplitude': amplitude, 'average': average}\n",
    "    return results\n",
    "\n",
    "# Exemplo de uso\n",
    "results = run_training_analysis(X, y)\n",
    "\n",
    "# Plotando os resultados\n",
    "train_sizes = []\n",
    "variances = []\n",
    "amplitudes = []\n",
    "averages = []\n",
    "\n",
    "for train_size, metrics in results.items():\n",
    "    train_sizes.append(train_size)\n",
    "    variances.append(metrics['variance'])\n",
    "    amplitudes.append(metrics['amplitude'])\n",
    "    averages.append(metrics['average'])\n",
    "\n",
    "# Gráfico de variância vs tamanho do conjunto de treino\n",
    "plt.figure(figsize=(10, 6))\n",
    "plt.scatter(train_sizes, variances, c='blue', label='Variância do Desempenho')\n",
    "plt.plot(train_sizes, variances, color='blue', linestyle='--')\n",
    "plt.xlabel('Proporção do Conjunto de Treino')\n",
    "plt.ylabel('Variância da Acurácia')\n",
    "plt.title('Variância da Acurácia em Função do Tamanho do Conjunto de Treino')\n",
    "plt.legend()\n",
    "plt.grid(True)\n",
    "plt.show()\n",
    "\n",
    "# Gráfico de amplitude vs tamanho do conjunto de treino\n",
    "plt.figure(figsize=(10, 6))\n",
    "plt.scatter(train_sizes, amplitudes, c='red', label='Amplitude do Desempenho (Max - Min)')\n",
    "plt.plot(train_sizes, amplitudes, color='red', linestyle='--')\n",
    "plt.xlabel('Proporção do Conjunto de Treino')\n",
    "plt.ylabel('Amplitude da Acurácia')\n",
    "plt.title('Amplitude da Acurácia em Função do Tamanho do Conjunto de Treino')\n",
    "plt.legend()\n",
    "plt.grid(True)\n",
    "plt.show()\n",
    "\n",
    "\n",
    "# Gráfico de média vs tamanho do conjunto de treino\n",
    "plt.figure(figsize=(10, 6))\n",
    "plt.scatter(train_sizes, averages, c='b', label='Média')\n",
    "plt.plot(train_sizes, averages, color='b', linestyle='--')\n",
    "plt.xlabel('Proporção do Conjunto de Treino')\n",
    "plt.ylabel('Média da Acurácia')\n",
    "plt.title('Média da Acurácia em Função do Tamanho do Conjunto de Treino')\n",
    "plt.legend()\n",
    "plt.grid(True)\n",
    "plt.show()"
   ]
  },
  {
   "cell_type": "markdown",
   "metadata": {
    "id": "dCPtGfvgLS-b"
   },
   "source": [
    "**>> Analise e Discuta:**\n",
    "\n",
    "Mantendo o conjunto de teste fixo, por que vemos uma queda na variância e na amplitude conforme mais dados de treino são utilizados?Como a amplitude (diferença entre o máximo e o mínimo) do desempenho varia com o tamanho do conjunto de treino? O que isso nos diz sobre a confiabilidade do modelo com tamanhos pequenos de conjunto de treino?\n",
    "\n",
    "\n",
    "**Sua resposta aqui:**\n",
    "\n",
    "---"
   ]
  },
  {
   "cell_type": "markdown",
   "metadata": {
    "id": "xWDSEvCUHVOn"
   },
   "source": [
    "# Parte 2: Análise e entendimento de overfitting e underfitting."
   ]
  },
  {
   "cell_type": "markdown",
   "metadata": {
    "id": "CxALgzf1Hp-L"
   },
   "source": [
    "\n",
    "Esta parte do notebook é baseado no Tutorial: https://thedatafrog.com/en/articles/overfitting-illustrated/"
   ]
  },
  {
   "cell_type": "markdown",
   "metadata": {
    "id": "H-9VlRvPHwkk"
   },
   "source": [
    "## Criando um dataset sintético\n",
    "\n",
    "Vamos criar uma amostra de exemplos com dois atributos x1 e x2, e duas classes. Para a classe 0, a distribuição de probabilidade subjacente é uma Gaussiana 2D centrada em (0,0), com largura = 1 ao longo de ambas as direções. Para a classe 1, a Gaussiana é centrada em (1,1)."
   ]
  },
  {
   "cell_type": "code",
   "execution_count": null,
   "metadata": {
    "id": "KlC6xbyQHz6G"
   },
   "outputs": [],
   "source": [
    "%matplotlib inline\n",
    "np.random.seed(0xdeadbeef)\n",
    "\n",
    "def make_sample(nexamples, means=([0.,0.],[1.,1.]), sigma=1.):\n",
    "    normal = np.random.multivariate_normal\n",
    "    # squared width:\n",
    "    s2 = sigma**2.\n",
    "    # below, we provide the coordinates of the mean as\n",
    "    # a first argument, and then the covariance matrix\n",
    "    # which describes the width of the Gaussian along the\n",
    "    # two directions.\n",
    "    # we generate nexamples examples for each category\n",
    "    sgx0 = normal(means[0], [[s2, 0.], [0.,s2]], nexamples)\n",
    "    sgx1 = normal(means[1], [[s2, 0.], [0.,s2]], nexamples)\n",
    "    # setting the labels for each category\n",
    "    sgy0 = np.zeros((nexamples,))\n",
    "    sgy1 = np.ones((nexamples,))\n",
    "    sgx = np.concatenate([sgx0,sgx1])\n",
    "    sgy = np.concatenate([sgy0,sgy1])\n",
    "    return sgx, sgy"
   ]
  },
  {
   "cell_type": "markdown",
   "metadata": {
    "id": "OG47Px5BH20g"
   },
   "source": [
    "Aqui, criamos uma amostra de treinamento  (sgx, sgy)  muito pequena com apenas 30 exemplos por classe, e uma amostra de teste (tgx, tgy) com 200 exemplos por classe. Estamos usando uma amostra de treinamento pequena pra mostrar que poucos dados favorecem overfitting."
   ]
  },
  {
   "cell_type": "code",
   "execution_count": null,
   "metadata": {
    "id": "bcBPS3i7H5dB"
   },
   "outputs": [],
   "source": [
    "sgx, sgy = make_sample(30)\n",
    "tgx, tgy = make_sample(200)"
   ]
  },
  {
   "cell_type": "code",
   "execution_count": null,
   "metadata": {
    "id": "mSmtw4ZVH6Y4"
   },
   "outputs": [],
   "source": [
    "# plot do dataset pequeno, as cores são de acordo com a classe\n",
    "plt.scatter(sgx[:,0], sgx[:,1], alpha=0.5, c=sgy, cmap='viridis')\n",
    "plt.xlabel('x1')\n",
    "plt.ylabel('x2')"
   ]
  },
  {
   "cell_type": "markdown",
   "metadata": {
    "id": "bmMYkiF5IAUV"
   },
   "source": [
    "Vemos que com um número tão baixo de exemplos, não é óbvio que as amostras seguem funções de densidade de probabilidade gaussianas. Além disso, como as gaussianas são tão próximas, será bem difícil separar as duas categorias.\n",
    "\n"
   ]
  },
  {
   "cell_type": "markdown",
   "metadata": {
    "id": "VJyfNP-VIEAY"
   },
   "source": [
    "## Overfitting\n",
    "\n",
    "Vamos tentar classificar os dados com uma rede neural \"complexa\", de forma proposital para ilustrar o overfitting. Ela é construida na célula abaixo, com as características (pode ser customizado):\n",
    "\n",
    "*   3 camadas ocultas de 50 neurônios cada,\n",
    "*   Ativação ReLU, pois a Função ReLU torna o treinamento mais fácil em redes neurais com camadas ocultas,\n",
    "* Otimizador Adam, variação sofisticada da descida de gradiente,\n",
    "* um número máximo elevado de iterações, para que a rede tenha tempo para convergir,\n",
    "* uma semente aleatória fixa para que você possa obter exatamente os mesmos resultados que eu, toda vez que executar o código\n"
   ]
  },
  {
   "cell_type": "code",
   "execution_count": null,
   "metadata": {
    "id": "jNznT1eCIJUO"
   },
   "outputs": [],
   "source": [
    "def get_scikit_mlp(data_x, data_y):\n",
    "  mlp = MLPClassifier(hidden_layer_sizes=(50,50,50), activation='relu', max_iter=500, random_state=1)\n",
    "  mlp.fit(data_x, data_y)\n",
    "  return mlp"
   ]
  },
  {
   "cell_type": "markdown",
   "metadata": {
    "id": "J7Bpa_bNIIqB"
   },
   "source": [
    "Agora vamos definir uma pequena função para plotar nossos resultados. A função plotará os exemplos nas duas classes, bem como a probabilidade de que um ponto (x1,x2) pertença à classe 1 (preto significa que essa probabilidade está próxima de 1, e branco, de 0). Não se preocupe com esse código, apenas que ele recebe a rede treinada e os dados para mostrar."
   ]
  },
  {
   "cell_type": "code",
   "execution_count": null,
   "metadata": {
    "id": "cDnRgf8EIOGv"
   },
   "outputs": [],
   "source": [
    "def plot_result_scikit(model, data_x, data_y, linrange=(-5,5,101)):\n",
    "    xmin, xmax, npoints = linrange\n",
    "    gridx1, gridx2 = np.meshgrid(np.linspace(xmin,xmax,npoints), np.linspace(xmin,xmax,npoints))\n",
    "    grid = np.c_[gridx1.flatten(), gridx2.flatten()]\n",
    "\n",
    "    probs = model.predict_proba(grid)\n",
    "\n",
    "    accuracy = accuracy_score(data_y, model.predict(data_x))\n",
    "    print(f\"Accuracy: {accuracy:.5f}\")\n",
    "\n",
    "    #print(probs)\n",
    "    plt.pcolor(gridx1, gridx2, probs[:,1].reshape(npoints,npoints), cmap='binary')\n",
    "    plt.colorbar()\n",
    "    plt.scatter(data_x[:,0], data_x[:,1], c=data_y, cmap='plasma', alpha=0.5, marker='.')\n",
    "    plt.xlabel('x1')\n",
    "    plt.ylabel('x2')\n",
    "    plt.show()\n"
   ]
  },
  {
   "cell_type": "code",
   "execution_count": null,
   "metadata": {
    "id": "SeFgEdfQIQxT"
   },
   "outputs": [],
   "source": [
    "#treinamento do modelo\n",
    "scikit_model = get_scikit_mlp(sgx, sgy)\n",
    "\n",
    "#avaliação e visualização nos dados de treino\n",
    "plot_result_scikit(scikit_model, sgx,sgy)"
   ]
  },
  {
   "cell_type": "code",
   "execution_count": null,
   "metadata": {
    "id": "5bwtyk_1IaMj"
   },
   "outputs": [],
   "source": [
    "# avaliação e visualização nos dados de teste\n",
    "plot_result_scikit(scikit_model, tgx,tgy)"
   ]
  },
  {
   "cell_type": "markdown",
   "metadata": {
    "id": "Fdr-SqL1KJGI"
   },
   "source": [
    "**>> Analise e Discuta:**\n",
    "\n",
    "Observando os gráficos acima e comparando os resultados para treino e teste, quais características lhe chamam a atenção como indícios de um overfitting no modelo treinado? Analise não só o desempenho em termos quantitativo, mas também características da fronteira de decisão.\n",
    "\n",
    "\n",
    "**Sua resposta aqui:**\n",
    "\n",
    "---"
   ]
  },
  {
   "cell_type": "markdown",
   "metadata": {
    "id": "Lg2O9gejPYuH"
   },
   "source": [
    "## Diminuindo a complexidade da rede neural\n",
    "\n",
    "\n",
    "Agora vamos tentar novamente, mas com uma rede muito mais simples, com uma única camada com três neurônios. A rede é treinada com a pequena amostra de treinamento, e então utilizada para classificação dos dados de teste. Para fins de análise dos resultados, serão mostrados o desempenho e a fronteira de decisão nos conjuntos de treino e teste."
   ]
  },
  {
   "cell_type": "code",
   "execution_count": null,
   "metadata": {
    "id": "drCScE7aQz19"
   },
   "outputs": [],
   "source": [
    "sgx, sgy = make_sample(30)\n",
    "tgx, tgy = make_sample(200)"
   ]
  },
  {
   "cell_type": "code",
   "execution_count": null,
   "metadata": {
    "id": "CkyBgi38Pme3"
   },
   "outputs": [],
   "source": [
    "def get_smaller_scikit_mlp(data_x, data_y):\n",
    "  mlp = MLPClassifier(hidden_layer_sizes=(3,), activation='relu', max_iter=500, random_state=1)\n",
    "  mlp.fit(data_x, data_y)\n",
    "  return mlp\n"
   ]
  },
  {
   "cell_type": "code",
   "execution_count": null,
   "metadata": {
    "id": "SvdQA3vZPpHf"
   },
   "outputs": [],
   "source": [
    "scikit_model = get_smaller_scikit_mlp(sgx, sgy)\n",
    "plot_result_scikit(scikit_model, sgx, sgy)"
   ]
  },
  {
   "cell_type": "code",
   "execution_count": null,
   "metadata": {
    "id": "Rstg_9bzQE1O"
   },
   "outputs": [],
   "source": [
    "plot_result_scikit(scikit_model, tgx, tgy)"
   ]
  },
  {
   "cell_type": "markdown",
   "metadata": {
    "id": "5Bp8Hep6Pxku"
   },
   "source": [
    "Seguindo a mesma linha de usar uma rede simples, vamos treinar um novo modelo mas usando uma amostra maior para dados de treinamento: 10.000 exemplos por classe em vez de 30.\n",
    "\n",
    "Observe os resultados para o conjunto de dados de treinamento e de teste, sendo o de teste o mesmo que foi usado no gráfico anterior"
   ]
  },
  {
   "cell_type": "code",
   "execution_count": null,
   "metadata": {
    "id": "8mjsvV7VP0ZJ"
   },
   "outputs": [],
   "source": [
    "sgx, sgy = make_sample(10000)\n",
    "scikit_model = get_smaller_scikit_mlp(sgx, sgy)\n",
    "plot_result_scikit(scikit_model, sgx,sgy)\n"
   ]
  },
  {
   "cell_type": "code",
   "execution_count": null,
   "metadata": {
    "id": "q1o0dUwLP1h0"
   },
   "outputs": [],
   "source": [
    "plot_result_scikit(scikit_model, tgx,tgy)"
   ]
  },
  {
   "cell_type": "markdown",
   "metadata": {
    "id": "p_oy8zVBRoOO"
   },
   "source": [
    "**>> Analise e Discuta:**\n",
    "\n",
    "Ao analisar os resultados para os modelos treinados acima, tanto em termos de desempenho como de fronteira de decisão, o maior volume de dados ajudou a melhorar o desempenho do modelo? Qual o impacto da arquitetura da rede na conclusão da sua análise? Isto é, o quanto você acha viável treinar modelos melhores (maior acurácia), com mais dados, usando essa mesma arquitetura?\n",
    "\n",
    "\n",
    "**Sua resposta aqui:**\n",
    "\n",
    "---"
   ]
  },
  {
   "cell_type": "markdown",
   "metadata": {
    "id": "CwPwRSbNSCdm"
   },
   "source": [
    "## Underfitting\n",
    "\n",
    "\n",
    "Para concluir, vamos observar o desempenho de uma rede simples em dados complexos, considerando um problema não linearmente separável."
   ]
  },
  {
   "cell_type": "code",
   "execution_count": null,
   "metadata": {
    "id": "gEVs872RSnGh"
   },
   "outputs": [],
   "source": [
    "sgxa, sgya = make_sample(150, ([0.,0],[1.,1.]), 0.3)\n",
    "sgxb, sgyb = make_sample(150, ([3.,3],[4.,4.]), 0.3)\n",
    "sgxc, sgyc = make_sample(150, ([5.,5.],[-2.,-2.]), 0.6)\n",
    "sgxd, sgyd = make_sample(150, ([-1,3.],[3.,-1.]), 0.3)\n",
    "\n",
    "data_x = np.concatenate([sgxa,sgxb,sgxc,sgxd])\n",
    "data_y = np.concatenate([sgya,sgyb,sgyc,sgyd])\n",
    "\n",
    "\n",
    "plt.scatter(data_x[:,0], data_x[:,1], alpha=0.5, c=data_y, cmap='viridis')\n",
    "plt.xlabel('x1')\n",
    "plt.ylabel('x2')"
   ]
  },
  {
   "cell_type": "markdown",
   "metadata": {
    "id": "EDEA_EQISwaB"
   },
   "source": [
    "Uma rede pequena poderá classificar esses dados corretamente? Execute e analise o código com uma rede muito simples, com 1 camada oculta de 3 neurônios."
   ]
  },
  {
   "cell_type": "code",
   "execution_count": null,
   "metadata": {
    "id": "mri9ahGUXcTh"
   },
   "outputs": [],
   "source": [
    "X_s2_train, X_s2_test, y_s2_train, y_s2_test = train_test_split(data_x, data_y, test_size=0.2, random_state=42)\n"
   ]
  },
  {
   "cell_type": "code",
   "execution_count": null,
   "metadata": {
    "id": "bqPYvFQvSsv3"
   },
   "outputs": [],
   "source": [
    "mlp = MLPClassifier(hidden_layer_sizes=(3,), activation='relu', max_iter=500)\n",
    "mlp.fit(X_s2_train, y_s2_train)\n",
    "plot_result_scikit(mlp, X_s2_train, y_s2_train,linrange=(-4,7,201))"
   ]
  },
  {
   "cell_type": "code",
   "execution_count": null,
   "metadata": {
    "id": "0AR4zYNdXvQw"
   },
   "outputs": [],
   "source": [
    "plot_result_scikit(mlp, X_s2_test, y_s2_test,linrange=(-4,7,201))"
   ]
  },
  {
   "cell_type": "markdown",
   "metadata": {
    "id": "gJ9EtIfoTMzS"
   },
   "source": [
    "**>> Analise e Discuta:**\n",
    "\n",
    "Você acha que a rede foi capaz de aprender os padrões implícitos nos dados? A complexidade (em termos de arquitetura e parâmetros internos) da rede neural é\n",
    "suficiente para se ajustar aos dados?\n",
    "\n",
    "Que alternativas em termos de recursos ou decisões/estratégias de treinamento de modelos você sugere testar para tentar abordar melhor esta tarefa de classificação?\n",
    "\n",
    "\n",
    "**Sua resposta aqui:**\n",
    "\n",
    "---"
   ]
  },
  {
   "cell_type": "markdown",
   "metadata": {
    "id": "KT8s5BoemIym"
   },
   "source": [
    "# Entrega\n",
    "\n",
    "Preencha as respostas nos campos indicados ao longo do notebook.\n",
    "Envie seu notebook (com as respostas) exportado para **PDF** no Moodle.\n",
    "\n",
    "**Atenção:** Ainda que esta atividade seja discutida e resolvida em grupos, cada aluno ou aluna deve enviar o seu notebook com as respostas desenvolvidas com suas próprias palavras. A detecção de entregas iguais configurará e será tratada como plágio."
   ]
  }
 ],
 "metadata": {
  "colab": {
   "private_outputs": true,
   "provenance": [],
   "toc_visible": true
  },
  "kernelspec": {
   "display_name": ".venv",
   "language": "python",
   "name": "python3"
  },
  "language_info": {
   "codemirror_mode": {
    "name": "ipython",
    "version": 3
   },
   "file_extension": ".py",
   "mimetype": "text/x-python",
   "name": "python",
   "nbconvert_exporter": "python",
   "pygments_lexer": "ipython3",
   "version": "3.12.3"
  }
 },
 "nbformat": 4,
 "nbformat_minor": 0
}
